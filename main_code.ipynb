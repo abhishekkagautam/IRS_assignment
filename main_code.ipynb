{
 "cells": [
  {
   "cell_type": "code",
   "execution_count": 22,
   "metadata": {},
   "outputs": [],
   "source": [
    "import pandas as pd \n",
    "import numpy as np"
   ]
  },
  {
   "cell_type": "code",
   "execution_count": 23,
   "metadata": {},
   "outputs": [
    {
     "name": "stdout",
     "output_type": "stream",
     "text": [
      "                                                    Name Review_Count Rating  \\\n",
      "0            Aptamil 1 First Infant Milk From Birth 800G          (6)    2.2   \n",
      "1      Huggies Pure Baby Wipes Fragrance Free 12 Pack...         (10)    4.3   \n",
      "2      Pampers Baby Dry Pants Essential Pack Size 6 2...       (1455)    4.6   \n",
      "3           Ella's Kitchen The Yellow One Multipack 450G         (75)    4.8   \n",
      "4      Pampers Baby Dry Pants Essential Pack Size 5 3...       (1470)    4.6   \n",
      "...                                                  ...          ...    ...   \n",
      "20583    Purina Dentalife Large Dog Chews 18 Sticks 636G        (324)    4.8   \n",
      "20584   Purina Dentalife Medium Dog Chews 24 Sticks 552G        (324)    4.8   \n",
      "20585    Purina Dentalife Small Dog Chews 30 Sticks 490G        (324)    4.8   \n",
      "20586            Pedigree Meaty Loaf Multipack 12 X 400G          (3)      3   \n",
      "20587  Chappie Complete Dry Dog Food Chicken & Cereal...          (1)      5   \n",
      "\n",
      "      Prices                                        Description  \\\n",
      "0      11.35  First Infant Milk, with a 29% fermented dairy-...   \n",
      "1       7.00                                    Pure Baby Wipes   \n",
      "2       7.00  When your young baby starts to wriggle during ...   \n",
      "3       3.50                    Organic The Yellow One Smoothie   \n",
      "4       7.00  When your young baby starts to wriggle during ...   \n",
      "...      ...                                                ...   \n",
      "20583   5.00  Veterinary Oral Health Council accepted helps ...   \n",
      "20584   5.00  Veterinary Oral Health Council Accepted® helps...   \n",
      "20585   5.00  Veterinary Oral Health Council Accepted® helps...   \n",
      "20586   7.50                          Developed with our vets**   \n",
      "20587   6.50       CHAPPIE COMPLETE DRY DOG FOOD CKN & CRL 3KG    \n",
      "\n",
      "                                             Ingredients  Cal  \\\n",
      "0                         Bringing Science to Early Life  Nan   \n",
      "1      Aqua, Caprylyl Glycol, Sodium Benzoate, Coco-B...  Nan   \n",
      "2      Petrolatum, Stearyl Alcohol, Parafinum Liquidu...  Nan   \n",
      "3      Organic Bananas 45%, Organic Apples 33%, Organ...  Nan   \n",
      "4      Petrolatum, Stearyl Alcohol, Parafinum Liquidu...  Nan   \n",
      "...                                                  ...  ...   \n",
      "20583  Cereals (62% Extruded Corn Flour, 5% Wheat Flo...  Nan   \n",
      "20584  Cereals (62% Extruded Corn Flour, 5% Wheat Flo...  Nan   \n",
      "20585  Cereals (62% Extruded Corn Flour, 5% Wheat Flo...  Nan   \n",
      "20586  Best before date: see side. Batch number, Fact...  Nan   \n",
      "20587  Cereals (including 4% Whole Wheat), Meat and A...  Nan   \n",
      "\n",
      "                                               Nutrition  \\\n",
      "0      Energy 276kJ-66kcalFat 3.4gof which, saturates...   \n",
      "1                                                    Nan   \n",
      "2                                                    Nan   \n",
      "3      Energy 305kJ/72kcal275kJ/65kcalFat <0.5g<0.5g-...   \n",
      "4                                                    Nan   \n",
      "...                                                  ...   \n",
      "20583  Protein:7.1%Fat content:2.4%Crude fibre:0.7%Cr...   \n",
      "20584  Protein:7.1%Fat content:2.4%Crude fibre:0.7%Cr...   \n",
      "20585  Protein:7.1%Fat content:2.4%Crude fibre:0.7%Cr...   \n",
      "20586  Protein:7.2Fat content:4.5Inorganic matter:2.3...   \n",
      "20587  Protein:20.0Fat content:7.9Inorganic matter:7....   \n",
      "\n",
      "                                                     url  \n",
      "0      https://www.tesco.com/groceries/en-GB/products...  \n",
      "1      https://www.tesco.com/groceries/en-GB/products...  \n",
      "2      https://www.tesco.com/groceries/en-GB/products...  \n",
      "3      https://www.tesco.com/groceries/en-GB/products...  \n",
      "4      https://www.tesco.com/groceries/en-GB/products...  \n",
      "...                                                  ...  \n",
      "20583  https://www.tesco.com/groceries/en-GB/products...  \n",
      "20584  https://www.tesco.com/groceries/en-GB/products...  \n",
      "20585  https://www.tesco.com/groceries/en-GB/products...  \n",
      "20586  https://www.tesco.com/groceries/en-GB/products...  \n",
      "20587  https://www.tesco.com/groceries/en-GB/products...  \n",
      "\n",
      "[20588 rows x 9 columns]\n"
     ]
    }
   ],
   "source": [
    "df = pd.concat(\n",
    "    map(pd.read_csv, ['data///baby.csv', 'data//bakery.csv', 'data//cupfood.csv', \n",
    "                      'data//fresh food.csv', 'data//frozen-food.csv', 'data//health-and-beauty.csv',\n",
    "                      'data//home-and-ents.csv', 'data//household.csv', 'data//pets.csv']), ignore_index=True)\n",
    "print(df)"
   ]
  },
  {
   "cell_type": "code",
   "execution_count": 24,
   "metadata": {},
   "outputs": [],
   "source": [
    "df.to_csv(\"main.csv\")"
   ]
  },
  {
   "cell_type": "code",
   "execution_count": 25,
   "metadata": {},
   "outputs": [
    {
     "data": {
      "text/html": [
       "<div>\n",
       "<style scoped>\n",
       "    .dataframe tbody tr th:only-of-type {\n",
       "        vertical-align: middle;\n",
       "    }\n",
       "\n",
       "    .dataframe tbody tr th {\n",
       "        vertical-align: top;\n",
       "    }\n",
       "\n",
       "    .dataframe thead th {\n",
       "        text-align: right;\n",
       "    }\n",
       "</style>\n",
       "<table border=\"1\" class=\"dataframe\">\n",
       "  <thead>\n",
       "    <tr style=\"text-align: right;\">\n",
       "      <th></th>\n",
       "      <th>Name</th>\n",
       "      <th>Review_Count</th>\n",
       "      <th>Rating</th>\n",
       "      <th>Prices</th>\n",
       "      <th>Description</th>\n",
       "      <th>Ingredients</th>\n",
       "      <th>Cal</th>\n",
       "      <th>Nutrition</th>\n",
       "      <th>url</th>\n",
       "    </tr>\n",
       "  </thead>\n",
       "  <tbody>\n",
       "    <tr>\n",
       "      <th>0</th>\n",
       "      <td>Aptamil 1 First Infant Milk From Birth 800G</td>\n",
       "      <td>(6)</td>\n",
       "      <td>2.2</td>\n",
       "      <td>11.35</td>\n",
       "      <td>First Infant Milk, with a 29% fermented dairy-...</td>\n",
       "      <td>Bringing Science to Early Life</td>\n",
       "      <td>Nan</td>\n",
       "      <td>Energy 276kJ-66kcalFat 3.4gof which, saturates...</td>\n",
       "      <td>https://www.tesco.com/groceries/en-GB/products...</td>\n",
       "    </tr>\n",
       "    <tr>\n",
       "      <th>1</th>\n",
       "      <td>Huggies Pure Baby Wipes Fragrance Free 12 Pack...</td>\n",
       "      <td>(10)</td>\n",
       "      <td>4.3</td>\n",
       "      <td>7.00</td>\n",
       "      <td>Pure Baby Wipes</td>\n",
       "      <td>Aqua, Caprylyl Glycol, Sodium Benzoate, Coco-B...</td>\n",
       "      <td>Nan</td>\n",
       "      <td>Nan</td>\n",
       "      <td>https://www.tesco.com/groceries/en-GB/products...</td>\n",
       "    </tr>\n",
       "    <tr>\n",
       "      <th>2</th>\n",
       "      <td>Pampers Baby Dry Pants Essential Pack Size 6 2...</td>\n",
       "      <td>(1455)</td>\n",
       "      <td>4.6</td>\n",
       "      <td>7.00</td>\n",
       "      <td>When your young baby starts to wriggle during ...</td>\n",
       "      <td>Petrolatum, Stearyl Alcohol, Parafinum Liquidu...</td>\n",
       "      <td>Nan</td>\n",
       "      <td>Nan</td>\n",
       "      <td>https://www.tesco.com/groceries/en-GB/products...</td>\n",
       "    </tr>\n",
       "    <tr>\n",
       "      <th>3</th>\n",
       "      <td>Ella's Kitchen The Yellow One Multipack 450G</td>\n",
       "      <td>(75)</td>\n",
       "      <td>4.8</td>\n",
       "      <td>3.50</td>\n",
       "      <td>Organic The Yellow One Smoothie</td>\n",
       "      <td>Organic Bananas 45%, Organic Apples 33%, Organ...</td>\n",
       "      <td>Nan</td>\n",
       "      <td>Energy 305kJ/72kcal275kJ/65kcalFat &lt;0.5g&lt;0.5g-...</td>\n",
       "      <td>https://www.tesco.com/groceries/en-GB/products...</td>\n",
       "    </tr>\n",
       "    <tr>\n",
       "      <th>4</th>\n",
       "      <td>Pampers Baby Dry Pants Essential Pack Size 5 3...</td>\n",
       "      <td>(1470)</td>\n",
       "      <td>4.6</td>\n",
       "      <td>7.00</td>\n",
       "      <td>When your young baby starts to wriggle during ...</td>\n",
       "      <td>Petrolatum, Stearyl Alcohol, Parafinum Liquidu...</td>\n",
       "      <td>Nan</td>\n",
       "      <td>Nan</td>\n",
       "      <td>https://www.tesco.com/groceries/en-GB/products...</td>\n",
       "    </tr>\n",
       "  </tbody>\n",
       "</table>\n",
       "</div>"
      ],
      "text/plain": [
       "                                                Name Review_Count Rating  \\\n",
       "0        Aptamil 1 First Infant Milk From Birth 800G          (6)    2.2   \n",
       "1  Huggies Pure Baby Wipes Fragrance Free 12 Pack...         (10)    4.3   \n",
       "2  Pampers Baby Dry Pants Essential Pack Size 6 2...       (1455)    4.6   \n",
       "3       Ella's Kitchen The Yellow One Multipack 450G         (75)    4.8   \n",
       "4  Pampers Baby Dry Pants Essential Pack Size 5 3...       (1470)    4.6   \n",
       "\n",
       "  Prices                                        Description  \\\n",
       "0  11.35  First Infant Milk, with a 29% fermented dairy-...   \n",
       "1   7.00                                    Pure Baby Wipes   \n",
       "2   7.00  When your young baby starts to wriggle during ...   \n",
       "3   3.50                    Organic The Yellow One Smoothie   \n",
       "4   7.00  When your young baby starts to wriggle during ...   \n",
       "\n",
       "                                         Ingredients  Cal  \\\n",
       "0                     Bringing Science to Early Life  Nan   \n",
       "1  Aqua, Caprylyl Glycol, Sodium Benzoate, Coco-B...  Nan   \n",
       "2  Petrolatum, Stearyl Alcohol, Parafinum Liquidu...  Nan   \n",
       "3  Organic Bananas 45%, Organic Apples 33%, Organ...  Nan   \n",
       "4  Petrolatum, Stearyl Alcohol, Parafinum Liquidu...  Nan   \n",
       "\n",
       "                                           Nutrition  \\\n",
       "0  Energy 276kJ-66kcalFat 3.4gof which, saturates...   \n",
       "1                                                Nan   \n",
       "2                                                Nan   \n",
       "3  Energy 305kJ/72kcal275kJ/65kcalFat <0.5g<0.5g-...   \n",
       "4                                                Nan   \n",
       "\n",
       "                                                 url  \n",
       "0  https://www.tesco.com/groceries/en-GB/products...  \n",
       "1  https://www.tesco.com/groceries/en-GB/products...  \n",
       "2  https://www.tesco.com/groceries/en-GB/products...  \n",
       "3  https://www.tesco.com/groceries/en-GB/products...  \n",
       "4  https://www.tesco.com/groceries/en-GB/products...  "
      ]
     },
     "execution_count": 25,
     "metadata": {},
     "output_type": "execute_result"
    }
   ],
   "source": [
    "df.head()"
   ]
  },
  {
   "cell_type": "code",
   "execution_count": null,
   "metadata": {},
   "outputs": [],
   "source": []
  },
  {
   "cell_type": "code",
   "execution_count": 43,
   "metadata": {},
   "outputs": [
    {
     "name": "stdin",
     "output_type": "stream",
     "text": [
      " Milk\n"
     ]
    }
   ],
   "source": [
    "user_input = input()"
   ]
  },
  {
   "cell_type": "code",
   "execution_count": 36,
   "metadata": {},
   "outputs": [],
   "source": [
    "if user_input in df[\"Name\"]:\n",
    "    print(\"yes\")"
   ]
  },
  {
   "cell_type": "code",
   "execution_count": 37,
   "metadata": {},
   "outputs": [
    {
     "name": "stdout",
     "output_type": "stream",
     "text": [
      "Aptamil 1 First Infant Milk From Birth 800G\n"
     ]
    }
   ],
   "source": [
    "print(df[\"Name\"][0])"
   ]
  },
  {
   "cell_type": "code",
   "execution_count": 38,
   "metadata": {},
   "outputs": [],
   "source": [
    "data = df['Name'].tolist()"
   ]
  },
  {
   "cell_type": "code",
   "execution_count": 39,
   "metadata": {},
   "outputs": [
    {
     "name": "stdout",
     "output_type": "stream",
     "text": [
      "yes\n"
     ]
    }
   ],
   "source": [
    "if user_input in data:\n",
    "    print(\"yes\")"
   ]
  },
  {
   "cell_type": "code",
   "execution_count": 126,
   "metadata": {},
   "outputs": [],
   "source": [
    "output = df[1:1]"
   ]
  },
  {
   "cell_type": "code",
   "execution_count": 157,
   "metadata": {},
   "outputs": [],
   "source": [
    "count =0\n",
    "dic={}\n",
    "for i in range(len(data)):\n",
    "    if user_input in data[i]:\n",
    "        dic[count] = df.iloc[i]\n",
    "        count+=count\n",
    "        \n",
    "        \n",
    "        "
   ]
  },
  {
   "cell_type": "code",
   "execution_count": 151,
   "metadata": {},
   "outputs": [
    {
     "ename": "SyntaxError",
     "evalue": "invalid syntax (<ipython-input-151-0ae5b9218aa6>, line 1)",
     "output_type": "error",
     "traceback": [
      "\u001b[1;36m  File \u001b[1;32m\"<ipython-input-151-0ae5b9218aa6>\"\u001b[1;36m, line \u001b[1;32m1\u001b[0m\n\u001b[1;33m    for i in dic\u001b[0m\n\u001b[1;37m                 ^\u001b[0m\n\u001b[1;31mSyntaxError\u001b[0m\u001b[1;31m:\u001b[0m invalid syntax\n"
     ]
    }
   ],
   "source": [
    "for i in dic "
   ]
  },
  {
   "cell_type": "raw",
   "metadata": {},
   "source": [
    "type(df.iloc[i:i+1])"
   ]
  },
  {
   "cell_type": "code",
   "execution_count": 152,
   "metadata": {},
   "outputs": [
    {
     "data": {
      "text/plain": [
       "pandas.core.frame.DataFrame"
      ]
     },
     "execution_count": 152,
     "metadata": {},
     "output_type": "execute_result"
    }
   ],
   "source": [
    "type(output)"
   ]
  },
  {
   "cell_type": "code",
   "execution_count": 153,
   "metadata": {},
   "outputs": [
    {
     "data": {
      "text/plain": [
       "20588"
      ]
     },
     "execution_count": 153,
     "metadata": {},
     "output_type": "execute_result"
    }
   ],
   "source": [
    "len(df)"
   ]
  },
  {
   "cell_type": "code",
   "execution_count": 154,
   "metadata": {},
   "outputs": [
    {
     "data": {
      "text/plain": [
       "0"
      ]
     },
     "execution_count": 154,
     "metadata": {},
     "output_type": "execute_result"
    }
   ],
   "source": [
    "count"
   ]
  },
  {
   "cell_type": "code",
   "execution_count": 161,
   "metadata": {},
   "outputs": [],
   "source": [
    "output = pd.DataFrame.from_dict(dic)"
   ]
  },
  {
   "cell_type": "code",
   "execution_count": null,
   "metadata": {},
   "outputs": [],
   "source": [
    "output"
   ]
  },
  {
   "cell_type": "code",
   "execution_count": null,
   "metadata": {},
   "outputs": [],
   "source": []
  }
 ],
 "metadata": {
  "kernelspec": {
   "display_name": "Python 3",
   "language": "python",
   "name": "python3"
  },
  "language_info": {
   "codemirror_mode": {
    "name": "ipython",
    "version": 3
   },
   "file_extension": ".py",
   "mimetype": "text/x-python",
   "name": "python",
   "nbconvert_exporter": "python",
   "pygments_lexer": "ipython3",
   "version": "3.7.6"
  }
 },
 "nbformat": 4,
 "nbformat_minor": 4
}
